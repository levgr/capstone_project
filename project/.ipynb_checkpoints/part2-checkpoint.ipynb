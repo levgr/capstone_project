{
 "cells": [
  {
   "cell_type": "markdown",
   "metadata": {},
   "source": [
    "# Part 2"
   ]
  },
  {
   "cell_type": "markdown",
   "metadata": {},
   "source": [
    "Tasks:\n",
    "1. State the different modeling approaches that you will compare to address the business opportunity.\n",
    "2. Iterate on your suite of possible models by modifying data transformations, pipeline architectures, hyperparameters and other relevant factors.\n",
    "3. Re-train your model on all of the data using the selected approach and prepare it for deployment.\n",
    "4. Articulate your findings in a summary report."
   ]
  },
  {
   "cell_type": "markdown",
   "metadata": {},
   "source": [
    "### 1. State the different modeling approaches that you will compare to address the business opportunity."
   ]
  },
  {
   "cell_type": "markdown",
   "metadata": {},
   "source": [
    "We will try to use different machine learning approaches based on features extracted from histroical data. We will compare accuracy of different methods to address the business opportunity "
   ]
  },
  {
   "cell_type": "markdown",
   "metadata": {},
   "source": [
    "### 2. Iterate on your suite of possible models by modifying data transformations, pipeline architectures, "
   ]
  },
  {
   "cell_type": "code",
   "execution_count": 8,
   "metadata": {},
   "outputs": [],
   "source": [
    "from cslib import fetch_ts, engineer_features"
   ]
  },
  {
   "cell_type": "code",
   "execution_count": 3,
   "metadata": {},
   "outputs": [
    {
     "name": "stdout",
     "output_type": "stream",
     "text": [
      "... loading ts data from files\n"
     ]
    }
   ],
   "source": [
    "data_dir = \"./data/cs-train/\"\n",
    "ts_data = fetch_ts(data_dir)"
   ]
  },
  {
   "cell_type": "code",
   "execution_count": 6,
   "metadata": {},
   "outputs": [
    {
     "data": {
      "text/plain": [
       "dict_keys(['all', 'netherlands', 'united_kingdom', 'germany', 'eire', 'france', 'portugal', 'norway', 'spain', 'singapore', 'hong_kong'])"
      ]
     },
     "execution_count": 6,
     "metadata": {},
     "output_type": "execute_result"
    }
   ],
   "source": [
    "ts_data.keys()"
   ]
  },
  {
   "cell_type": "code",
   "execution_count": 9,
   "metadata": {},
   "outputs": [],
   "source": [
    "all_features = engineer_features(ts_data[\"all\"])"
   ]
  },
  {
   "cell_type": "code",
   "execution_count": 20,
   "metadata": {},
   "outputs": [],
   "source": [
    "X, y, date = all_features"
   ]
  },
  {
   "cell_type": "code",
   "execution_count": 22,
   "metadata": {},
   "outputs": [
    {
     "data": {
      "text/html": [
       "<div>\n",
       "<style scoped>\n",
       "    .dataframe tbody tr th:only-of-type {\n",
       "        vertical-align: middle;\n",
       "    }\n",
       "\n",
       "    .dataframe tbody tr th {\n",
       "        vertical-align: top;\n",
       "    }\n",
       "\n",
       "    .dataframe thead th {\n",
       "        text-align: right;\n",
       "    }\n",
       "</style>\n",
       "<table border=\"1\" class=\"dataframe\">\n",
       "  <thead>\n",
       "    <tr style=\"text-align: right;\">\n",
       "      <th></th>\n",
       "      <th>previous_7</th>\n",
       "      <th>previous_14</th>\n",
       "      <th>previous_28</th>\n",
       "      <th>previous_70</th>\n",
       "      <th>previous_year</th>\n",
       "      <th>recent_invoices</th>\n",
       "      <th>recent_views</th>\n",
       "    </tr>\n",
       "  </thead>\n",
       "  <tbody>\n",
       "    <tr>\n",
       "      <th>0</th>\n",
       "      <td>14450.54</td>\n",
       "      <td>14450.54</td>\n",
       "      <td>14450.54</td>\n",
       "      <td>14450.54</td>\n",
       "      <td>0.0</td>\n",
       "      <td>5.928571</td>\n",
       "      <td>537.392857</td>\n",
       "    </tr>\n",
       "    <tr>\n",
       "      <th>1</th>\n",
       "      <td>27862.50</td>\n",
       "      <td>27862.50</td>\n",
       "      <td>27862.50</td>\n",
       "      <td>27862.50</td>\n",
       "      <td>0.0</td>\n",
       "      <td>10.310345</td>\n",
       "      <td>1007.103448</td>\n",
       "    </tr>\n",
       "    <tr>\n",
       "      <th>2</th>\n",
       "      <td>41152.75</td>\n",
       "      <td>41152.75</td>\n",
       "      <td>41152.75</td>\n",
       "      <td>41152.75</td>\n",
       "      <td>0.0</td>\n",
       "      <td>14.966667</td>\n",
       "      <td>1499.066667</td>\n",
       "    </tr>\n",
       "    <tr>\n",
       "      <th>3</th>\n",
       "      <td>50840.03</td>\n",
       "      <td>50840.03</td>\n",
       "      <td>50840.03</td>\n",
       "      <td>50840.03</td>\n",
       "      <td>0.0</td>\n",
       "      <td>18.533333</td>\n",
       "      <td>1916.533333</td>\n",
       "    </tr>\n",
       "    <tr>\n",
       "      <th>4</th>\n",
       "      <td>52283.29</td>\n",
       "      <td>52283.29</td>\n",
       "      <td>52283.29</td>\n",
       "      <td>52283.29</td>\n",
       "      <td>0.0</td>\n",
       "      <td>19.600000</td>\n",
       "      <td>2026.966667</td>\n",
       "    </tr>\n",
       "  </tbody>\n",
       "</table>\n",
       "</div>"
      ],
      "text/plain": [
       "   previous_7  previous_14  previous_28  previous_70  previous_year  recent_invoices  recent_views\n",
       "0    14450.54     14450.54     14450.54     14450.54            0.0         5.928571    537.392857\n",
       "1    27862.50     27862.50     27862.50     27862.50            0.0        10.310345   1007.103448\n",
       "2    41152.75     41152.75     41152.75     41152.75            0.0        14.966667   1499.066667\n",
       "3    50840.03     50840.03     50840.03     50840.03            0.0        18.533333   1916.533333\n",
       "4    52283.29     52283.29     52283.29     52283.29            0.0        19.600000   2026.966667"
      ]
     },
     "execution_count": 22,
     "metadata": {},
     "output_type": "execute_result"
    }
   ],
   "source": [
    "X.head()"
   ]
  },
  {
   "cell_type": "code",
   "execution_count": 37,
   "metadata": {},
   "outputs": [],
   "source": [
    "from sklearn import svm\n",
    "from sklearn.model_selection import train_test_split, GridSearchCV\n",
    "from sklearn.ensemble import RandomForestRegressor\n",
    "from sklearn.metrics import mean_squared_error\n",
    "from sklearn.preprocessing import StandardScaler, OneHotEncoder\n",
    "from sklearn.pipeline import Pipeline\n",
    "import numpy as np"
   ]
  },
  {
   "cell_type": "markdown",
   "metadata": {},
   "source": [
    "### SVM model"
   ]
  },
  {
   "cell_type": "code",
   "execution_count": 38,
   "metadata": {},
   "outputs": [
    {
     "name": "stdout",
     "output_type": "stream",
     "text": [
      "svm_eval_rmse= 15333.0\n"
     ]
    }
   ],
   "source": [
    "## train a SVM\n",
    "\n",
    "param_grid_svm = {'svm__kernel':('linear', 'rbf'), 'svm__C':[1, 10]}\n",
    "\n",
    "param_grid_rf = {\n",
    "    'rf__criterion': ['mse'],\n",
    "    'rf__n_estimators': [10, 20,50]\n",
    "}\n",
    "\n",
    "pipe_svm = Pipeline(steps=[('scaler', StandardScaler()),\n",
    "                          ('svm', svm.SVC())])\n",
    "\n",
    "grid = GridSearchCV(pipe_rf, param_grid=param_grid_rf, cv=3, iid=False, n_jobs=-1)\n",
    "grid.fit(X_train, y_train)\n",
    "y_pred = grid.predict(X_test)\n",
    "svm_eval_rmse = round(np.sqrt(mean_squared_error(y_test, y_pred)))\n",
    "print(\"svm_eval_rmse=\",svm_eval_rmse)"
   ]
  },
  {
   "cell_type": "markdown",
   "metadata": {},
   "source": [
    "### RandomForestRegressor model"
   ]
  },
  {
   "cell_type": "code",
   "execution_count": 39,
   "metadata": {},
   "outputs": [
    {
     "name": "stdout",
     "output_type": "stream",
     "text": [
      "rf_eval_rmse= 16592.0\n"
     ]
    }
   ],
   "source": [
    "## Perform a train-test split\n",
    "X_train, X_test, y_train, y_test = train_test_split(X, y, test_size=0.25,\n",
    "                                                    shuffle=True, random_state=42)\n",
    "## train a random forest model\n",
    "param_grid_rf = {\n",
    "    'rf__criterion': ['mse'],\n",
    "    'rf__n_estimators': [10, 20,50]\n",
    "}\n",
    "\n",
    "pipe_rf = Pipeline(steps=[('scaler', StandardScaler()),\n",
    "                          ('rf', RandomForestRegressor())])\n",
    "\n",
    "grid = GridSearchCV(pipe_rf, param_grid=param_grid_rf, cv=3, iid=False, n_jobs=-1)\n",
    "grid.fit(X_train, y_train)\n",
    "y_pred = grid.predict(X_test)\n",
    "rf_eval_rmse = round(np.sqrt(mean_squared_error(y_test, y_pred)))\n",
    "print(\"rf_eval_rmse=\",rf_eval_rmse)"
   ]
  },
  {
   "cell_type": "markdown",
   "metadata": {},
   "source": [
    "## According to the above results RandomForestRegressor provides better performance in comparision to SVM model, so we will use former model  "
   ]
  },
  {
   "cell_type": "markdown",
   "metadata": {},
   "source": [
    "### 3. Re-train your model on all of the data using the selected approach and prepare it for deployment."
   ]
  },
  {
   "cell_type": "code",
   "execution_count": 41,
   "metadata": {},
   "outputs": [
    {
     "name": "stdout",
     "output_type": "stream",
     "text": [
      "... loading ts data from files\n",
      "... saving model: models/sl-all-0_1.joblib\n",
      "... saving model: models/sl-netherlands-0_1.joblib\n",
      "... saving model: models/sl-united_kingdom-0_1.joblib\n",
      "... saving model: models/sl-germany-0_1.joblib\n",
      "... saving model: models/sl-eire-0_1.joblib\n",
      "... saving model: models/sl-france-0_1.joblib\n",
      "... saving model: models/sl-portugal-0_1.joblib\n",
      "... saving model: models/sl-norway-0_1.joblib\n",
      "... saving model: models/sl-spain-0_1.joblib\n",
      "... saving model: models/sl-singapore-0_1.joblib\n",
      "... saving model: models/sl-hong_kong-0_1.joblib\n"
     ]
    }
   ],
   "source": [
    "from model import model_train\n",
    "model_train(data_dir)"
   ]
  },
  {
   "cell_type": "markdown",
   "metadata": {},
   "source": [
    "### 4. Articulate your findings in a summary report."
   ]
  },
  {
   "cell_type": "markdown",
   "metadata": {},
   "source": [
    "After comparision of different models we selected RandomForestRegressor as the model that shown the best performace for the accuracy prediction metrics. This metrics aligned with buisness oppartunity. Finally we prepared models for all contries, however for of the contries the data should be improved as expained in EDA (part 1) of this work. "
   ]
  }
 ],
 "metadata": {
  "kernelspec": {
   "display_name": "Python 3.8.3 64-bit ('ibm-ai-workflow': conda)",
   "language": "python",
   "name": "python38364bitibmaiworkflowcondaf73da849465b45099e1e9c621795aeaf"
  },
  "language_info": {
   "codemirror_mode": {
    "name": "ipython",
    "version": 3
   },
   "file_extension": ".py",
   "mimetype": "text/x-python",
   "name": "python",
   "nbconvert_exporter": "python",
   "pygments_lexer": "ipython3",
   "version": "3.8.3"
  }
 },
 "nbformat": 4,
 "nbformat_minor": 4
}
